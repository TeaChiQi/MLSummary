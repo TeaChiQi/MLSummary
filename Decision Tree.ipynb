{
 "cells": [
  {
   "cell_type": "code",
   "execution_count": 1,
   "metadata": {},
   "outputs": [],
   "source": [
    "import numpy as np\n",
    "import pandas as pd\n",
    "import matplotlib.pyplot as plt"
   ]
  },
  {
   "cell_type": "markdown",
   "metadata": {},
   "source": [
    "# Use developed library"
   ]
  },
  {
   "cell_type": "markdown",
   "metadata": {},
   "source": [
    "create data set"
   ]
  },
  {
   "cell_type": "code",
   "execution_count": 2,
   "metadata": {},
   "outputs": [],
   "source": [
    "X = [[0, 0], [1, 1], [1, 3], [1, 0.5]]\n",
    "Y = [0, 1, 2, 1]"
   ]
  },
  {
   "cell_type": "markdown",
   "metadata": {},
   "source": [
    "main classifier"
   ]
  },
  {
   "cell_type": "code",
   "execution_count": 3,
   "metadata": {},
   "outputs": [
    {
     "name": "stdout",
     "output_type": "stream",
     "text": [
      "[1]\n",
      "[[0. 1. 0.]]\n"
     ]
    }
   ],
   "source": [
    "from sklearn import tree\n",
    "clf = tree.DecisionTreeClassifier()\n",
    "clf = clf.fit(X, Y)\n",
    "print(clf.predict([[2., 2.]]))\n",
    "print(clf.predict_proba([[2., 2.]]))"
   ]
  },
  {
   "cell_type": "markdown",
   "metadata": {},
   "source": [
    "plot"
   ]
  },
  {
   "cell_type": "code",
   "execution_count": 4,
   "metadata": {},
   "outputs": [
    {
     "data": {
      "text/plain": [
       "[Text(133.92000000000002, 181.2, 'X[1] <= 0.25\\ngini = 0.625\\nsamples = 4\\nvalue = [1, 2, 1]'),\n",
       " Text(66.96000000000001, 108.72, 'gini = 0.0\\nsamples = 1\\nvalue = [1, 0, 0]'),\n",
       " Text(200.88000000000002, 108.72, 'X[1] <= 2.0\\ngini = 0.444\\nsamples = 3\\nvalue = [0, 2, 1]'),\n",
       " Text(133.92000000000002, 36.23999999999998, 'gini = 0.0\\nsamples = 2\\nvalue = [0, 2, 0]'),\n",
       " Text(267.84000000000003, 36.23999999999998, 'gini = 0.0\\nsamples = 1\\nvalue = [0, 0, 1]')]"
      ]
     },
     "execution_count": 4,
     "metadata": {},
     "output_type": "execute_result"
    },
    {
     "data": {
      "image/png": "[encoded data removed]",
      "text/plain": [
       "<Figure size 432x288 with 1 Axes>"
      ]
     },
     "metadata": {
      "needs_background": "light"
     },
     "output_type": "display_data"
    }
   ],
   "source": [
    "tree.plot_tree(clf)"
   ]
  },
  {
   "cell_type": "code",
   "execution_count": 5,
   "metadata": {},
   "outputs": [],
   "source": [
    "# from sklearn.datasets import load_iris\n",
    "# from sklearn import tree\n",
    "# iris = load_iris()\n",
    "# X, y = iris.data, iris.target\n",
    "# clf = tree.DecisionTreeClassifier()\n",
    "# clf = clf.fit(X, y)\n",
    "# tree.plot_tree(clf)"
   ]
  },
  {
   "cell_type": "markdown",
   "metadata": {},
   "source": [
    "# The replicated class for Decisin Tree\n"
   ]
  },
  {
   "cell_type": "code",
   "execution_count": 6,
   "metadata": {},
   "outputs": [],
   "source": [
    "def create_data():\n",
    "    data = [[1, 1],\n",
    "                [1, 1],\n",
    "                [1, 0],\n",
    "                [0, 1],\n",
    "                [0, 1]]\n",
    "    labels = ['yes','yes', 'no', 'no', 'no']\n",
    "    feature_label = ['surf', 'flip']\n",
    "    label_int, label_str = pd.factorize(labels)\n",
    "    combined = np.append(data, np.array([label_int]).transpose(), axis=1)\n",
    "    return combined, label_str, feature_label\n",
    "\n",
    "dataset, label, fea_label = create_data()"
   ]
  },
  {
   "cell_type": "markdown",
   "metadata": {},
   "source": [
    "compute shannon entropy"
   ]
  },
  {
   "cell_type": "code",
   "execution_count": 7,
   "metadata": {},
   "outputs": [
    {
     "data": {
      "text/plain": [
       "0.9709505944546685"
      ]
     },
     "execution_count": 7,
     "metadata": {},
     "output_type": "execute_result"
    }
   ],
   "source": [
    "from collections import Counter\n",
    "def calc_shannon_ent(dataset):\n",
    "    data = dataset[:,-1]\n",
    "    count_dict = Counter(data)\n",
    "    ent_sum = np.sum([n_*np.log(n_) for k_, n_ in count_dict.items()])\n",
    "    return -(ent_sum / len(data) - np.log(len(data)))/np.log(2)\n",
    "\n",
    "calc_shannon_ent(dataset)"
   ]
  },
  {
   "cell_type": "code",
   "execution_count": 8,
   "metadata": {},
   "outputs": [
    {
     "data": {
      "text/plain": [
       "(array([[1, 0],\n",
       "        [1, 0],\n",
       "        [0, 1]]),\n",
       " ['flip'])"
      ]
     },
     "execution_count": 8,
     "metadata": {},
     "output_type": "execute_result"
    }
   ],
   "source": [
    "def split_to_branch(dataset, fea_label, axis, value):\n",
    "    total_fea_num = dataset.shape[1] - 1\n",
    "    branch = dataset[dataset[:,axis] == value, ]\n",
    "    selected_col = np.append(np.arange(axis),np.arange(axis+1,total_fea_num+1)) \n",
    "    return branch[:, selected_col], fea_label[:axis] + fea_label[(axis+1):]\n",
    "\n",
    "split_to_branch(dataset, fea_label, 0, 1)"
   ]
  },
  {
   "cell_type": "code",
   "execution_count": 9,
   "metadata": {},
   "outputs": [
    {
     "data": {
      "text/plain": [
       "0"
      ]
     },
     "execution_count": 9,
     "metadata": {},
     "output_type": "execute_result"
    }
   ],
   "source": [
    "def choose_best_split_feature(dataset):\n",
    "    total_fea_num = dataset.shape[1] - 1\n",
    "    best_feature, best_infogain = 0, float('inf')\n",
    "    for f_ in range(total_fea_num):\n",
    "        cur_info = 0 # base entropy, expect to decrease\n",
    "        for v_ in set(dataset[:,f_]):\n",
    "            cur_data = dataset[dataset[:,f_] == v_, ]\n",
    "            cur_info += calc_shannon_ent(cur_data) * cur_data.shape[0]\n",
    "        if cur_info < best_infogain:\n",
    "            best_feature, best_infogain = f_, cur_info\n",
    "    return best_feature\n",
    "\n",
    "choose_best_split_feature(dataset)"
   ]
  },
  {
   "cell_type": "code",
   "execution_count": 10,
   "metadata": {},
   "outputs": [
    {
     "data": {
      "text/plain": [
       "{'surf': {0: 'no', 1: {'flip': {0: 'no', 1: 'yes'}}}}"
      ]
     },
     "execution_count": 10,
     "metadata": {},
     "output_type": "execute_result"
    }
   ],
   "source": [
    "# recursively create tree\n",
    "\n",
    "def create_tree(dataset, labels, fea_label):\n",
    "    # if all belongs to one class\n",
    "    if len(set(dataset[:,-1])) == 1:\n",
    "        return labels[dataset[0,-1]]\n",
    "    \n",
    "    # if no more feature to use\n",
    "    if not len(fea_label):\n",
    "        cate = sorted(Counter(dataset[:,-1]).items(), key=lambda x:x[1])\n",
    "        return labels[cate[-1][0]]\n",
    "    \n",
    "    # select best feature\n",
    "    best_fea = choose_best_split_feature(dataset)\n",
    "    my_tree = {}\n",
    "    for v_ in set(dataset[:,best_fea]):\n",
    "        sub_data, sub_fea = split_to_branch(dataset, fea_label, best_fea, v_)\n",
    "        my_tree[v_] = create_tree(sub_data, labels, sub_fea)\n",
    "        \n",
    "    return {fea_label[best_fea]: my_tree}\n",
    "\n",
    "create_tree(dataset, label, fea_label)"
   ]
  },
  {
   "cell_type": "code",
   "execution_count": 11,
   "metadata": {},
   "outputs": [],
   "source": [
    "def classify(new_vec, tree, fea_label):\n",
    "    cur_tree = tree\n",
    "    while type(cur_tree).__name__ != 'str':\n",
    "        cur_fea = next(iter(cur_tree))\n",
    "        split_tree = cur_tree[cur_fea]\n",
    "        cur_tree = split_tree[new_vec[fea_label.index(cur_fea)]]\n",
    "    \n",
    "    return cur_tree"
   ]
  },
  {
   "cell_type": "code",
   "execution_count": 12,
   "metadata": {},
   "outputs": [
    {
     "data": {
      "text/plain": [
       "'yes'"
      ]
     },
     "execution_count": 12,
     "metadata": {},
     "output_type": "execute_result"
    }
   ],
   "source": [
    "tree = create_tree(dataset, label, fea_label)\n",
    "classify([1,1], tree, fea_label)"
   ]
  },
  {
   "cell_type": "code",
   "execution_count": 13,
   "metadata": {},
   "outputs": [],
   "source": [
    "def store_tree(tree, filename):\n",
    "    import pickle\n",
    "    fw = open(filename,'w')\n",
    "    pickle.dump(inputTree,fw)\n",
    "    fw.close()\n",
    "def grabTree(filename):\n",
    "    import pickle\n",
    "    fr = open(filename)\n",
    "    return pickle.load(fr)"
   ]
  },
  {
   "cell_type": "code",
   "execution_count": null,
   "metadata": {},
   "outputs": [],
   "source": []
  }
 ],
 "metadata": {
  "kernelspec": {
   "display_name": "Python 3",
   "language": "python",
   "name": "python3"
  },
  "language_info": {
   "codemirror_mode": {
    "name": "ipython",
    "version": 3
   },
   "file_extension": ".py",
   "mimetype": "text/x-python",
   "name": "python",
   "nbconvert_exporter": "python",
   "pygments_lexer": "ipython3",
   "version": "3.7.3"
  }
 },
 "nbformat": 4,
 "nbformat_minor": 4
}
